{
 "cells": [
  {
   "cell_type": "code",
   "execution_count": 1,
   "metadata": {
    "collapsed": true
   },
   "outputs": [],
   "source": [
    "import math as m\n",
    "test_set=[0.512, 0.062, 0.016, 0.037, 0.112, 0.082, 0.03, 0.136]\n",
    "uniform=[0.125, 0.125,0.125, 0.125,0.125, 0.125,0.125, 0.125]"
   ]
  },
  {
   "cell_type": "code",
   "execution_count": 3,
   "metadata": {
    "collapsed": false
   },
   "outputs": [
    {
     "name": "stdout",
     "output_type": "stream",
     "text": [
      "Becsült elérhető loss: 1.0652002182284181 - 1.2346967645588443\n"
     ]
    }
   ],
   "source": [
    "prec=0.7\n",
    "def aboutloss(arr):\n",
    "    loss=prec*m.log(prec)\n",
    "    for i in range(8):\n",
    "        tmp=(1-prec)*arr[i]\n",
    "        loss+=tmp*m.log(tmp)\n",
    "    return -loss\n",
    "print('Becsült elérhető loss:',aboutloss(test_set),'-',aboutloss(uniform))    "
   ]
  },
  {
   "cell_type": "code",
   "execution_count": null,
   "metadata": {
    "collapsed": true
   },
   "outputs": [],
   "source": []
  }
 ],
 "metadata": {
  "anaconda-cloud": {},
  "kernelspec": {
   "display_name": "Python [conda env:tensorflow]",
   "language": "python",
   "name": "conda-env-tensorflow-py"
  },
  "language_info": {
   "codemirror_mode": {
    "name": "ipython",
    "version": 3
   },
   "file_extension": ".py",
   "mimetype": "text/x-python",
   "name": "python",
   "nbconvert_exporter": "python",
   "pygments_lexer": "ipython3",
   "version": "3.5.2"
  }
 },
 "nbformat": 4,
 "nbformat_minor": 1
}
